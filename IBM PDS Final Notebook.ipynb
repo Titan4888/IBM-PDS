{
 "cells": [
  {
   "cell_type": "markdown",
   "metadata": {
    "collapsed": true
   },
   "source": [
    "# My Jupyter Notebook on IBM Watson Studio"
   ]
  },
  {
   "cell_type": "markdown",
   "metadata": {},
   "source": [
    "<b>Manvendra Singh</b>"
   ]
  },
  {
   "cell_type": "markdown",
   "metadata": {},
   "source": [
    "<i> I am interested in Data Science, Machine Learning in particular, because it's exciting to use it for predicting things you normaly can't using data and I am fascinated by the insights data can provide.  </i>\n"
   ]
  },
  {
   "cell_type": "markdown",
   "metadata": {},
   "source": [
    "<h3> My code is supposed to tell the user if the number is even or odd</h3>"
   ]
  },
  {
   "cell_type": "code",
   "execution_count": 3,
   "metadata": {},
   "outputs": [
    {
     "name": "stdout",
     "output_type": "stream",
     "text": [
      "even\n",
      "odd\n"
     ]
    }
   ],
   "source": [
    "def evodd(n):\n",
    "    if n%2 == 0:\n",
    "        return \"even\"\n",
    "    else:\n",
    "        return \"odd\"\n",
    "\n",
    "print(evodd(30))\n",
    "print(evodd(101))\n",
    "    \n",
    "    "
   ]
  },
  {
   "cell_type": "markdown",
   "metadata": {},
   "source": [
    "<table>\n",
    "    <tr>\n",
    "        <th>Title</th>\n",
    "        <th>Author</th>\n",
    "        <th>Year</th>\n",
    "    </tr>\n",
    "    <tr>\n",
    "        <td>Pet Sematary</td>\n",
    "        <td>Stephen King</td>\n",
    "        <td>1983</td>\n",
    "    </tr>\n",
    "    <tr>\n",
    "        <td>Harry Potter and the Philosopher's Stone</td>\n",
    "        <td>J.K. Rowling</td>\n",
    "        <td>1997</td>\n",
    "    </tr>\n",
    "</table>\n",
    "\n",
    "***\n",
    "\n",
    "1. The Mentalist\n",
    "2. Sons of Anarchy\n",
    "3. Game of Thrones\n",
    "4. True Detective\n",
    "5. Succession\n",
    "\n",
    "<a href=\"https://www.imdb.com\"> IMDB link </a>\n",
    "\n",
    "<del> This is some strikethrough text </del>"
   ]
  },
  {
   "cell_type": "code",
   "execution_count": null,
   "metadata": {},
   "outputs": [],
   "source": []
  }
 ],
 "metadata": {
  "kernelspec": {
   "display_name": "Python 3.10",
   "language": "python",
   "name": "python3"
  },
  "language_info": {
   "codemirror_mode": {
    "name": "ipython",
    "version": 3
   },
   "file_extension": ".py",
   "mimetype": "text/x-python",
   "name": "python",
   "nbconvert_exporter": "python",
   "pygments_lexer": "ipython3",
   "version": "3.10.6"
  }
 },
 "nbformat": 4,
 "nbformat_minor": 1
}
